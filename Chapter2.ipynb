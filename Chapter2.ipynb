{
  "nbformat": 4,
  "nbformat_minor": 0,
  "metadata": {
    "colab": {
      "provenance": [],
      "authorship_tag": "ABX9TyNXDfho8aTpIWdGjVesde8K",
      "include_colab_link": true
    },
    "kernelspec": {
      "name": "python3",
      "display_name": "Python 3"
    },
    "language_info": {
      "name": "python"
    }
  },
  "cells": [
    {
      "cell_type": "markdown",
      "metadata": {
        "id": "view-in-github",
        "colab_type": "text"
      },
      "source": [
        "<a href=\"https://colab.research.google.com/github/BahruzHuseynov/AI_Projects/blob/main/Chapter2.ipynb\" target=\"_parent\"><img src=\"https://colab.research.google.com/assets/colab-badge.svg\" alt=\"Open In Colab\"/></a>"
      ]
    },
    {
      "cell_type": "code",
      "execution_count": 28,
      "metadata": {
        "colab": {
          "base_uri": "https://localhost:8080/"
        },
        "id": "g-xZX-zT3WPp",
        "outputId": "9b25d5bb-9dad-4ac7-a74a-6a70c1243d01"
      },
      "outputs": [
        {
          "output_type": "stream",
          "name": "stdout",
          "text": [
            "Looking in indexes: https://pypi.org/simple, https://us-python.pkg.dev/colab-wheels/public/simple/\n",
            "Requirement already satisfied: torch in /usr/local/lib/python3.8/dist-packages (1.13.1+cu116)\n",
            "Requirement already satisfied: typing-extensions in /usr/local/lib/python3.8/dist-packages (from torch) (4.5.0)\n",
            "Looking in indexes: https://pypi.org/simple, https://us-python.pkg.dev/colab-wheels/public/simple/\n",
            "Requirement already satisfied: torchvision in /usr/local/lib/python3.8/dist-packages (0.14.1+cu116)\n",
            "Requirement already satisfied: requests in /usr/local/lib/python3.8/dist-packages (from torchvision) (2.25.1)\n",
            "Requirement already satisfied: torch==1.13.1 in /usr/local/lib/python3.8/dist-packages (from torchvision) (1.13.1+cu116)\n",
            "Requirement already satisfied: pillow!=8.3.*,>=5.3.0 in /usr/local/lib/python3.8/dist-packages (from torchvision) (8.4.0)\n",
            "Requirement already satisfied: numpy in /usr/local/lib/python3.8/dist-packages (from torchvision) (1.22.4)\n",
            "Requirement already satisfied: typing-extensions in /usr/local/lib/python3.8/dist-packages (from torchvision) (4.5.0)\n",
            "Requirement already satisfied: idna<3,>=2.5 in /usr/local/lib/python3.8/dist-packages (from requests->torchvision) (2.10)\n",
            "Requirement already satisfied: certifi>=2017.4.17 in /usr/local/lib/python3.8/dist-packages (from requests->torchvision) (2022.12.7)\n",
            "Requirement already satisfied: chardet<5,>=3.0.2 in /usr/local/lib/python3.8/dist-packages (from requests->torchvision) (4.0.0)\n",
            "Requirement already satisfied: urllib3<1.27,>=1.21.1 in /usr/local/lib/python3.8/dist-packages (from requests->torchvision) (1.26.14)\n"
          ]
        }
      ],
      "source": [
        "!pip install torch\n",
        "!pip install torchvision"
      ]
    },
    {
      "cell_type": "code",
      "source": [
        "# Link for the codes: https://github.com/rebeen/beginners-pytorch-deep-learning/tree/master/chapter2\n",
        "!wget https://raw.githubusercontent.com/rebeen/beginners-pytorch-deep-learning/master/chapter2/images.csv"
      ],
      "metadata": {
        "colab": {
          "base_uri": "https://localhost:8080/"
        },
        "id": "935qteNs3oog",
        "outputId": "01875556-1469-41f1-fc41-4eed2cf55697"
      },
      "execution_count": 40,
      "outputs": [
        {
          "output_type": "stream",
          "name": "stdout",
          "text": [
            "--2023-03-07 07:52:35--  https://raw.githubusercontent.com/rebeen/beginners-pytorch-deep-learning/master/chapter2/images.csv\n",
            "Resolving raw.githubusercontent.com (raw.githubusercontent.com)... 185.199.110.133, 185.199.109.133, 185.199.111.133, ...\n",
            "Connecting to raw.githubusercontent.com (raw.githubusercontent.com)|185.199.110.133|:443... connected.\n",
            "HTTP request sent, awaiting response... 200 OK\n",
            "Length: 98664 (96K) [text/plain]\n",
            "Saving to: ‘images.csv’\n",
            "\n",
            "images.csv          100%[===================>]  96.35K  --.-KB/s    in 0.006s  \n",
            "\n",
            "2023-03-07 07:52:36 (16.9 MB/s) - ‘images.csv’ saved [98664/98664]\n",
            "\n"
          ]
        }
      ]
    },
    {
      "cell_type": "code",
      "source": [
        "# download.py\n",
        "import os\n",
        "import sys\n",
        "import urllib3\n",
        "from urllib.parse import urlparse\n",
        "import pandas as pd\n",
        "import itertools\n",
        "import shutil\n",
        "\n",
        "from urllib3.util import Retry\n",
        "\n",
        "urllib3.disable_warnings(urllib3.exceptions.InsecureRequestWarning)\n",
        "\n",
        "classes = [\"cat\", \"fish\"]\n",
        "set_types = [\"train\", \"test\", \"val\"]\n",
        "\n",
        "def download_image(url, klass, data_type):\n",
        "    basename = os.path.basename(urlparse(url).path)\n",
        "    filename = \"{}/{}/{}\".format(data_type, klass, basename)\n",
        "    if not os.path.exists(filename):\n",
        "        try: \n",
        "            http = urllib3.PoolManager(retries=Retry(connect=1, read=1, redirect=2))\n",
        "            with http.request(\"GET\", url, preload_content=False) as resp, open(\n",
        "                filename, \"wb\"\n",
        "            ) as out_file:\n",
        "                if resp.status == 200:\n",
        "                    shutil.copyfileobj(resp, out_file)\n",
        "                else:\n",
        "                    print(\"Error downloading {}\".format(url))\n",
        "            resp.release_conn()\n",
        "        except:\n",
        "            print(\"Error downloading {}\".format(url))\n",
        "\n",
        "\n",
        "if __name__ == \"__main__\":\n",
        "    if not os.path.exists(\"images.csv\"):\n",
        "        print(\"Error: can't find images.csv!\")\n",
        "        sys.exit(0)\n",
        "\n",
        "    # get args and create output directory\n",
        "    imagesDF = pd.read_csv(\"images.csv\")\n",
        "\n",
        "    for set_type, klass in list(itertools.product(set_types, classes)):\n",
        "        path = \"./{}/{}\".format(set_type, klass)\n",
        "        if not os.path.exists(path):\n",
        "            print(\"Creating directory {}\".format(path))\n",
        "            os.makedirs(path)\n",
        "\n",
        "    print(\"Downloading {} images\".format(len(imagesDF)))\n",
        "\n",
        "    result = [\n",
        "        download_image(url, klass, data_type)\n",
        "        for url, klass, data_type in zip(\n",
        "            imagesDF[\"url\"], imagesDF[\"class\"], imagesDF[\"type\"]\n",
        "        )\n",
        "    ]\n",
        "    sys.exit(0)"
      ],
      "metadata": {
        "colab": {
          "base_uri": "https://localhost:8080/",
          "height": 1000
        },
        "id": "7vSKlzjD4CA6",
        "outputId": "3a97bb07-c031-4a0a-e2ed-2e7b7a647acd"
      },
      "execution_count": 41,
      "outputs": [
        {
          "output_type": "stream",
          "name": "stdout",
          "text": [
            "Creating directory ./train/cat\n",
            "Creating directory ./train/fish\n",
            "Creating directory ./test/cat\n",
            "Creating directory ./test/fish\n",
            "Creating directory ./val/cat\n",
            "Creating directory ./val/fish\n",
            "Downloading 1393 images\n",
            "Error downloading http://farm1.static.flickr.com/1/1004525_cba96ba3c3.jpg\n",
            "Error downloading http://farm1.static.flickr.com/33/65048097_e5264bf855.jpg\n",
            "Error downloading http://farm3.static.flickr.com/2354/2102976081_61c8614be8.jpg\n",
            "Error downloading http://farm2.static.flickr.com/1390/709949156_5e4ac3f499.jpg\n",
            "Error downloading http://farm2.static.flickr.com/1221/1011749126_44a195db4c.jpg\n",
            "Error downloading http://farm1.static.flickr.com/173/416994740_6ada308baa.jpg\n",
            "Error downloading http://farm1.static.flickr.com/3/4193130_a058cdb81f.jpg\n",
            "Error downloading http://farm1.static.flickr.com/1/1004528_a111209743.jpg\n",
            "Error downloading http://farm1.static.flickr.com/60/174732335_7275892317.jpg\n",
            "Error downloading http://farm1.static.flickr.com/223/522289072_13b4f92d39.jpg\n",
            "Error downloading http://farm1.static.flickr.com/74/202578028_b617c32d6f.jpg\n",
            "Error downloading http://farm1.static.flickr.com/28/100739452_5be2c11557.jpg\n",
            "Error downloading http://farm1.static.flickr.com/1/1004527_527c0c32ce.jpg\n",
            "Error downloading http://farm2.static.flickr.com/1424/643693002_6262c7c770.jpg\n",
            "Error downloading http://farm1.static.flickr.com/64/212787447_54775fb5a1.jpg\n",
            "Error downloading http://farm3.static.flickr.com/2254/2179694251_ef26b307a6.jpg\n",
            "Error downloading http://farm3.static.flickr.com/2057/2181919666_80cabe8d45.jpg\n",
            "Error downloading http://farm3.static.flickr.com/2271/1541882092_7df1c00498.jpg\n",
            "Error downloading http://farm2.static.flickr.com/1009/1011749668_fc48f28767.jpg\n",
            "Error downloading http://farm3.static.flickr.com/2165/1516104019_b530c585e4.jpg\n",
            "Error downloading http://farm3.static.flickr.com/2027/2103753994_715cd26e9c.jpg\n",
            "Error downloading http://farm1.static.flickr.com/139/359658792_76c6011a76.jpg\n",
            "Error downloading http://farm2.static.flickr.com/1409/1010205192_6ce1a37dc5.jpg\n",
            "Error downloading http://farm2.static.flickr.com/1204/529556475_2f8a2f8b23.jpg\n",
            "Error downloading http://farm1.static.flickr.com/9/75298993_347ab0387c.jpg\n",
            "Error downloading http://farm1.static.flickr.com/152/334132664_83e5b5af38.jpg\n",
            "Error downloading http://farm2.static.flickr.com/1183/928732762_eddd8d29af.jpg\n",
            "Error downloading http://farm1.static.flickr.com/136/320793638_f167ca1fc5.jpg\n",
            "Error downloading http://farm1.static.flickr.com/188/426029501_9ad83db536.jpg\n",
            "Error downloading http://farm1.static.flickr.com/100/298022772_916ace8b22.jpg\n",
            "Error downloading http://farm1.static.flickr.com/112/290162359_4d481ca788.jpg\n",
            "Error downloading http://farm1.static.flickr.com/200/522288612_1c9d01387b.jpg\n",
            "Error downloading http://farm1.static.flickr.com/139/358921684_5c9e336ba6.jpg\n",
            "Error downloading http://farm1.static.flickr.com/131/347285520_c9f4dc030b.jpg\n",
            "Error downloading http://farm2.static.flickr.com/1193/691096590_548ed71bf7.jpg\n",
            "Error downloading http://farm2.static.flickr.com/1262/847517807_0216d39d30.jpg\n",
            "Error downloading http://farm2.static.flickr.com/1282/861774153_b4d1189962.jpg\n",
            "Error downloading http://farm2.static.flickr.com/1234/691090878_ff9bf9071b.jpg\n",
            "Error downloading http://farm2.static.flickr.com/1219/835393892_87b6a5e25e.jpg\n",
            "Error downloading http://farm1.static.flickr.com/163/356158507_ae17d2b83d.jpg\n",
            "Error downloading http://farm1.static.flickr.com/174/441338266_6ef76a092d.jpg\n",
            "Error downloading http://farm1.static.flickr.com/49/126757815_2b56006ae3.jpg\n",
            "Error downloading http://farm1.static.flickr.com/60/223217216_c9812a32b7.jpg\n",
            "Error downloading http://farm1.static.flickr.com/75/383039924_320a6cffcc.jpg\n",
            "Error downloading http://farm1.static.flickr.com/117/297949892_3532468343.jpg\n",
            "Error downloading http://farm1.static.flickr.com/49/112942284_3e525c90fd.jpg\n",
            "Error downloading http://farm2.static.flickr.com/1297/690151073_6fed6d2a80.jpg\n",
            "Error downloading http://farm3.static.flickr.com/2121/2198594925_0cdcb4b0bc.jpg\n",
            "Error downloading http://farm1.static.flickr.com/197/464579958_acedd32444.jpg\n",
            "Error downloading http://farm1.static.flickr.com/117/297949888_ff727f56d0.jpg\n"
          ]
        },
        {
          "output_type": "stream",
          "name": "stderr",
          "text": [
            "WARNING:urllib3.connectionpool:Retrying (Retry(total=9, connect=0, read=1, redirect=2, status=None)) after connection broken by 'NewConnectionError('<urllib3.connection.HTTPConnection object at 0x7f4912f575b0>: Failed to establish a new connection: [Errno -2] Name or service not known')': /images/Breyers%20and%20Kittens%20035.jpg\n"
          ]
        },
        {
          "output_type": "stream",
          "name": "stdout",
          "text": [
            "Error downloading http://www.off-n-trottin.com/images/Breyers%20and%20Kittens%20035.jpg\n",
            "Error downloading http://www.kittybreak.com/kitties/2006-02-17_adventurer.jpg\n",
            "Error downloading http://jackmaryetc.com/Travel/US/Colorado/images/052cat.jpg\n",
            "Error downloading http://www.petrescuemiami.com/Cat%20Photos/ZierTigerCat.jpg\n"
          ]
        },
        {
          "output_type": "stream",
          "name": "stderr",
          "text": [
            "WARNING:urllib3.connectionpool:Retrying (Retry(total=9, connect=0, read=1, redirect=2, status=None)) after connection broken by 'NewConnectionError('<urllib3.connection.HTTPConnection object at 0x7f4912f57d30>: Failed to establish a new connection: [Errno 110] Connection timed out')': /mds975/Images/c_ronald_ginger_cat_01.jpg\n"
          ]
        },
        {
          "output_type": "stream",
          "name": "stdout",
          "text": [
            "Error downloading http://www.arar93.dsl.pipex.com/mds975/Images/c_ronald_ginger_cat_01.jpg\n"
          ]
        },
        {
          "output_type": "stream",
          "name": "stderr",
          "text": [
            "WARNING:urllib3.connectionpool:Retrying (Retry(total=9, connect=0, read=1, redirect=2, status=None)) after connection broken by 'NewConnectionError('<urllib3.connection.HTTPConnection object at 0x7f4912f57b20>: Failed to establish a new connection: [Errno -2] Name or service not known')': /BuzzellTest/Creative/Tripp-TigerCat.jpg\n"
          ]
        },
        {
          "output_type": "stream",
          "name": "stdout",
          "text": [
            "Error downloading http://www.unknownhighway.com/images/uploads/littletigercat-12-20-07-small.jpg\n",
            "Error downloading http://www.whitelightening.net/BuzzellTest/Creative/Tripp-TigerCat.jpg\n",
            "Error downloading http://www.for-cats-only.com/images/mySubms/reviewFurnitureTigerBed.jpg\n",
            "Error downloading http://www.kittybreak.com/kitties/2006-02-18_WatchfulMamaCat.jpg\n",
            "Error downloading http://www.safepets.co.uk/tiger3.JPG\n",
            "Error downloading http://theatre-musical.com/travel/tigercat.jpg\n",
            "Error downloading http://www.anyday.se/images/20070101220757_cat1.jpg\n"
          ]
        },
        {
          "output_type": "stream",
          "name": "stderr",
          "text": [
            "WARNING:urllib3.connectionpool:Retrying (Retry(total=9, connect=0, read=1, redirect=2, status=None)) after connection broken by 'NewConnectionError('<urllib3.connection.HTTPConnection object at 0x7f4912ed32e0>: Failed to establish a new connection: [Errno -2] Name or service not known')': /file_thumbview_approve/2754709/2/istockphoto_2754709_white_tiger.jpg\n"
          ]
        },
        {
          "output_type": "stream",
          "name": "stdout",
          "text": [
            "Error downloading http://www.indiantiger.org/gifs/black-footedcat-a.jpg\n",
            "Error downloading http://images.art.com/images/products/large/10298000/10298902.jpg\n",
            "Error downloading http://www1.istockphoto.com/file_thumbview_approve/2754709/2/istockphoto_2754709_white_tiger.jpg\n",
            "Error downloading http://www.prestigiouspaw.com/tiger_op_450x600.jpg\n",
            "Error downloading http://www.stockphotospot.com/tiger-rubbing-against-a-tree-stock-photo-a66573.jpg\n",
            "Error downloading http://farm2.static.flickr.com/1132/1471994811_164d5a3f11.jpg\n",
            "Error downloading http://farm1.static.flickr.com/205/476956230_b3900bd668.jpg\n",
            "Error downloading http://farm1.static.flickr.com/132/386738725_f05b43aa50.jpg\n",
            "Error downloading http://farm1.static.flickr.com/230/465514643_ed172b3d7f.jpg\n",
            "Error downloading http://farm1.static.flickr.com/40/113565692_f3d86014e2.jpg\n",
            "Error downloading http://static.flickr.com/6/5733476_9266d6999b.jpg\n",
            "Error downloading http://static.flickr.com/74/223070551_857dc3264f.jpg\n",
            "Error downloading http://static.flickr.com/53/136562493_d7e2b71d6f.jpg\n",
            "Error downloading http://beccalou.com/blogimages/SleepingKitties01.jpg\n",
            "Error downloading http://farm1.static.flickr.com/32/94724274_83d737feec.jpg\n",
            "Error downloading http://farm1.static.flickr.com/153/358921562_e25275e771.jpg\n",
            "Error downloading http://farm1.static.flickr.com/229/498439925_56105ec829.jpg\n",
            "Error downloading http://farm1.static.flickr.com/4/5733484_a458450d64.jpg\n",
            "Error downloading http://farm2.static.flickr.com/1307/1171972141_6975842eae.jpg\n",
            "Error downloading http://farm1.static.flickr.com/25/40489215_3c98e1b7de.jpg\n",
            "Error downloading http://farm1.static.flickr.com/163/345925901_d5865b2585.jpg\n",
            "Error downloading http://farm1.static.flickr.com/116/366292337_d69effc0f7.jpg\n",
            "Error downloading http://farm1.static.flickr.com/14/16135136_262b1e984d.jpg\n",
            "Error downloading http://farm1.static.flickr.com/195/464580812_9a84a39d97.jpg\n",
            "Error downloading http://farm3.static.flickr.com/2247/2087049628_381e2034e1.jpg\n",
            "Error downloading http://farm3.static.flickr.com/2133/2233999520_1c493de45c.jpg\n",
            "Error downloading http://farm1.static.flickr.com/168/479775027_fbc2e23970.jpg\n",
            "Error downloading http://farm3.static.flickr.com/2409/2115133686_808ce0a5a5.jpg\n",
            "Error downloading http://farm1.static.flickr.com/220/498398268_aae3009df3.jpg\n",
            "Error downloading http://farm3.static.flickr.com/2023/2219782724_282abe79b7.jpg\n",
            "Error downloading http://farm3.static.flickr.com/2128/2102976045_289d3c9471.jpg\n",
            "Error downloading http://farm3.static.flickr.com/2083/2206140101_d64a7e3767.jpg\n",
            "Error downloading http://farm1.static.flickr.com/129/358922730_43d0ab8d2b.jpg\n",
            "Error downloading http://farm2.static.flickr.com/1437/927881425_8084c41b41.jpg\n",
            "Error downloading http://farm1.static.flickr.com/25/39351075_8ab1552d3e.jpg\n",
            "Error downloading http://farm3.static.flickr.com/2038/2157560924_19876ea4a2.jpg\n",
            "Error downloading http://farm3.static.flickr.com/2403/2151918390_d8c2dc0a62.jpg\n",
            "Error downloading http://farm1.static.flickr.com/27/57455726_8ccf14753f.jpg\n",
            "Error downloading http://farm1.static.flickr.com/185/426029368_3a9612f006.jpg\n",
            "Error downloading http://farm2.static.flickr.com/1133/1141687717_890fe14d8e.jpg\n",
            "Error downloading http://farm1.static.flickr.com/62/204035942_de0d323af5.jpg\n",
            "Error downloading http://farm2.static.flickr.com/1172/1323667952_a7a74975c4.jpg\n",
            "Error downloading http://farm1.static.flickr.com/42/84450056_bb5974a64f.jpg\n",
            "Error downloading http://farm4.static.flickr.com/3001/2776498771_20527f258b.jpg\n",
            "Error downloading http://farm4.static.flickr.com/3159/2824589595_07ee2443a3.jpg\n",
            "Error downloading http://farm4.static.flickr.com/3206/2970698030_1021311f52.jpg\n",
            "Error downloading http://farm2.static.flickr.com/1125/1348034256_cc50f5b446.jpg\n",
            "Error downloading http://farm3.static.flickr.com/2416/1833444691_dc3d1017db.jpg\n",
            "Error downloading http://farm3.static.flickr.com/2077/1834276056_4e86bacfe3.jpg\n",
            "Error downloading http://farm2.static.flickr.com/1231/1455910975_07315bf34e.jpg\n",
            "Error downloading http://farm2.static.flickr.com/1424/747119762_615603a9a0.jpg\n",
            "Error downloading http://farm1.static.flickr.com/79/233477721_0126cc0331.jpg\n",
            "Error downloading http://farm3.static.flickr.com/2056/2021607548_e0835d3552.jpg\n",
            "Error downloading http://farm2.static.flickr.com/1312/1287462891_f1a3e27b50.jpg\n",
            "Error downloading http://farm2.static.flickr.com/1322/1348044264_3e0ed6611e.jpg\n",
            "Error downloading http://farm4.static.flickr.com/3183/2791133165_5df1d47be5.jpg\n",
            "Error downloading http://farm4.static.flickr.com/3088/2776496087_1973f8dced.jpg\n",
            "Error downloading http://farm1.static.flickr.com/91/273635028_64f03c6389.jpg\n",
            "Error downloading http://farm4.static.flickr.com/3224/2777354896_176a518b8c.jpg\n",
            "Error downloading http://farm2.static.flickr.com/1103/840200833_be72b99848.jpg\n",
            "Error downloading http://farm2.static.flickr.com/1226/1140675688_2498ebdcc7.jpg\n",
            "Error downloading http://farm4.static.flickr.com/3005/3007583030_bd590c07e7.jpg\n",
            "Error downloading http://farm4.static.flickr.com/3218/2734977928_8d16b48c0a.jpg\n",
            "Error downloading http://farm4.static.flickr.com/3218/2776494507_7e4cd3a67e.jpg\n",
            "Error downloading http://farm2.static.flickr.com/1391/1087447360_c6037a47f5.jpg\n",
            "Error downloading http://farm4.static.flickr.com/3124/2297032796_b5eb52b860.jpg\n",
            "Error downloading http://farm4.static.flickr.com/3183/2806314103_c6a27c6a53.jpg\n",
            "Error downloading http://farm3.static.flickr.com/2356/2076921635_8146b3766d.jpg\n",
            "Error downloading http://farm4.static.flickr.com/3197/2897344494_fa0a244b55.jpg\n",
            "Error downloading http://farm4.static.flickr.com/3136/2791982160_14b08a4e3c.jpg\n",
            "Error downloading http://farm1.static.flickr.com/108/281045869_67c3f5355e.jpg\n",
            "Error downloading http://farm1.static.flickr.com/191/516600404_a300ca8625.jpg\n",
            "Error downloading http://farm2.static.flickr.com/1409/817922169_08b4a5f740.jpg\n",
            "Error downloading http://farm4.static.flickr.com/3161/2886597440_5b3a936f6d.jpg\n",
            "Error downloading http://farm2.static.flickr.com/1308/727088757_639eb2ccdb.jpg\n",
            "Error downloading http://farm1.static.flickr.com/97/248254722_719a163665.jpg\n",
            "Error downloading http://farm4.static.flickr.com/3202/2807167664_7f0c5891f6.jpg\n",
            "Error downloading http://farm2.static.flickr.com/1030/1348098964_4b8c2450e9.jpg\n",
            "Error downloading http://farm4.static.flickr.com/3227/2667317126_10ee1f1a17.jpg\n",
            "Error downloading http://farm3.static.flickr.com/2390/2046214400_f29df69336.jpg\n"
          ]
        },
        {
          "output_type": "stream",
          "name": "stderr",
          "text": [
            "WARNING:urllib3.connectionpool:Retrying (Retry(total=9, connect=1, read=0, redirect=2, status=None)) after connection broken by 'ProtocolError('Connection aborted.', RemoteDisconnected('Remote end closed connection without response'))': /images/king1-sm.jpg\n"
          ]
        },
        {
          "output_type": "stream",
          "name": "stdout",
          "text": [
            "Error downloading http://www.thebassethound.com/images/king1-sm.jpg\n"
          ]
        },
        {
          "output_type": "stream",
          "name": "stderr",
          "text": [
            "WARNING:urllib3.connectionpool:Retrying (Retry(total=9, connect=1, read=0, redirect=2, status=None)) after connection broken by 'ProtocolError('Connection aborted.', ConnectionResetError(104, 'Connection reset by peer'))': /silver031.jpg\n"
          ]
        },
        {
          "output_type": "stream",
          "name": "stdout",
          "text": [
            "Error downloading http://www.salmonherder.com/silver031.jpg\n",
            "Error downloading http://www.idohuntak.com/images/VInhCoho.jpg\n",
            "Error downloading http://www.columbiariverfishingguide.com/images/fishin22.jpg\n"
          ]
        },
        {
          "output_type": "stream",
          "name": "stderr",
          "text": [
            "WARNING:urllib3.connectionpool:Retrying (Retry(total=9, connect=0, read=1, redirect=2, status=None)) after connection broken by 'NewConnectionError('<urllib3.connection.HTTPConnection object at 0x7f4912eee9d0>: Failed to establish a new connection: [Errno -2] Name or service not known')': /pix1/pat3.jpg\n"
          ]
        },
        {
          "output_type": "stream",
          "name": "stdout",
          "text": [
            "Error downloading http://www.widespreadfishing.com/images_gallery/04%20silver%20salmon%20small.jpg\n",
            "Error downloading http://www.kenairiverhideaway.com/pix1/pat3.jpg\n",
            "Error downloading http://www.pec.on.ca/fish/trophycoho.jpg\n",
            "Error downloading http://www.hamra.net/fun/fish/pics/gsilvers.jpg\n",
            "Error downloading http://www.alaskarivertrips.com/images/443.guest%20chrome%20silver%20w%20fly.jpg\n",
            "Error downloading http://www.highadventureair.com/IMG_4037273.jpg\n",
            "Error downloading http://photos.oregonlive.com/photogallery/f43aa33cdff2bbd5e0173ab7a9460f04.jpg\n",
            "Error downloading http://www.greatriverfishing.com/images/Small/PicCoho6_small.jpg\n",
            "Error downloading http://www.chrisbrooks.org/content/binary/20040808JacobSalmon.jpg\n",
            "Error downloading http://www.greatriverfishing.com/images/Small/PicCoho14_small.jpg\n",
            "Error downloading http://www.lakemarie.com/Silver%20Salmon/Leo-Silver%20Salmon.jpg\n"
          ]
        },
        {
          "output_type": "stream",
          "name": "stderr",
          "text": [
            "WARNING:urllib3.connectionpool:Retrying (Retry(total=9, connect=0, read=1, redirect=2, status=None)) after connection broken by 'NewConnectionError('<urllib3.connection.HTTPConnection object at 0x7f4912eee910>: Failed to establish a new connection: [Errno -2] Name or service not known')': /459/3/97/24/2362397240073428963uOVsAS_ph.jpg\n"
          ]
        },
        {
          "output_type": "stream",
          "name": "stdout",
          "text": [
            "Error downloading http://image59.webshots.com/459/3/97/24/2362397240073428963uOVsAS_ph.jpg\n",
            "Error downloading http://www.atmos.washington.edu/~mantua/images/silver2.gif\n",
            "Error downloading http://outboundalaskacharters.com/images/fish/silver.jpg\n",
            "Error downloading http://www.fish4salmon.com/pictures/silvers/Ultralight_salmon_fishing_small.jpg\n",
            "Error downloading http://sportfishingketchikan.com/Sportfish%20Pics/Picture16.jpg\n"
          ]
        },
        {
          "output_type": "stream",
          "name": "stderr",
          "text": [
            "WARNING:urllib3.connectionpool:Retrying (Retry(total=9, connect=0, read=1, redirect=2, status=None)) after connection broken by 'NewConnectionError('<urllib3.connection.HTTPConnection object at 0x7f4912eeea60>: Failed to establish a new connection: [Errno -2] Name or service not known')': /images/prices_pg/coho_salmon_sm.jpg\n"
          ]
        },
        {
          "output_type": "stream",
          "name": "stdout",
          "text": [
            "Error downloading http://www.charliemoore.com/images/5-pound-bass/dennis.jpg\n",
            "Error downloading http://www.portlandsalmonfishing.com/images/prices_pg/coho_salmon_sm.jpg\n",
            "Error downloading http://www.anchorriverlodge.com/images/dad_king.jpg\n",
            "Error downloading http://www.kodiakwilderness.com/pageImages/34-8image.jpg\n",
            "Error downloading http://www.theoutdoorconnection.com/directory/logo/408.jpg\n"
          ]
        },
        {
          "output_type": "stream",
          "name": "stderr",
          "text": [
            "WARNING:urllib3.connectionpool:Retrying (Retry(total=9, connect=1, read=0, redirect=2, status=None)) after connection broken by 'ProtocolError('Connection aborted.', RemoteDisconnected('Remote end closed connection without response'))': /images/photos19_med.jpg\n"
          ]
        },
        {
          "output_type": "stream",
          "name": "stdout",
          "text": [
            "Error downloading http://www.akfishermanschoice.com/images/photos19_med.jpg\n",
            "Error downloading http://www.salmoneye.net/siteimages/chinook_salmon.jpg\n",
            "Error downloading http://www.alaskaoffshoreadventures.com/pics/kingkt.jpg\n",
            "Error downloading http://www.eacmarin.org/images/home/coho.jpg\n",
            "Error downloading http://www.anchorage.net/data/mem_images/2662.jpg\n",
            "Error downloading http://www.rodgunresources.com/alaskawildernessfishing/images/alaskan-salmon.jpg\n",
            "Error downloading http://www.avapub.com/images/salmon.gif\n",
            "Error downloading http://www.lakemarie.com/Silver%20Salmon/Ken's%20Silver%20Salmon.jpg\n"
          ]
        },
        {
          "output_type": "stream",
          "name": "stderr",
          "text": [
            "WARNING:urllib3.connectionpool:Retrying (Retry(total=9, connect=1, read=0, redirect=2, status=None)) after connection broken by 'ProtocolError('Connection aborted.', RemoteDisconnected('Remote end closed connection without response'))': /images/fishing_pics/silversalmonpic2.jpg\n"
          ]
        },
        {
          "output_type": "stream",
          "name": "stdout",
          "text": [
            "Error downloading http://www.akfishermanschoice.com/images/fishing_pics/silversalmonpic2.jpg\n",
            "Error downloading http://www.fishorhunt.com/gallery/silver_salmon_father_son.jpg\n"
          ]
        },
        {
          "output_type": "stream",
          "name": "stderr",
          "text": [
            "WARNING:urllib3.connectionpool:Retrying (Retry(total=9, connect=0, read=1, redirect=2, status=None)) after connection broken by 'NewConnectionError('<urllib3.connection.HTTPConnection object at 0x7f4912ed3cd0>: Failed to establish a new connection: [Errno -2] Name or service not known')': /images/big_king.jpg\n"
          ]
        },
        {
          "output_type": "stream",
          "name": "stdout",
          "text": [
            "Error downloading http://alaska.pinnacle-travel.org/images/big_king.jpg\n",
            "Error downloading http://farm3.static.flickr.com/2288/1956494336_5591fa37da.jpg\n",
            "Error downloading http://farm3.static.flickr.com/2386/1879139277_71ea573139.jpg\n",
            "Error downloading http://farm3.static.flickr.com/2080/2483223708_dd90747f10.jpg\n",
            "Error downloading http://farm3.static.flickr.com/2084/1879253211_7ea061692c.jpg\n",
            "Error downloading http://static.flickr.com/86/256085367_30d8e98fa4.jpg\n",
            "Error downloading http://static.flickr.com/1417/747122396_3de7f87df3.jpg\n",
            "Error downloading http://www.aegmedia.com/blog/tbd/uploaded_images/IMG_0673-787866.JPG\n",
            "Error downloading http://www.plu.edu/~christdr/Krivers%20Guide%20Service/Silver%20Salmon_files/Dscf0018_018.jpg\n",
            "Error downloading http://www.foxbaylodge.com/images/2004/andrew-king-salmon.jpg\n"
          ]
        },
        {
          "output_type": "stream",
          "name": "stderr",
          "text": [
            "WARNING:urllib3.connectionpool:Retrying (Retry(total=9, connect=0, read=1, redirect=2, status=None)) after connection broken by 'NewConnectionError('<urllib3.connection.HTTPConnection object at 0x7f4912ed3220>: Failed to establish a new connection: [Errno 110] Connection timed out')': /fish/images/FishOnly/CohoSalmon_ByErnest%20Keeley.jpg\n"
          ]
        },
        {
          "output_type": "stream",
          "name": "stdout",
          "text": [
            "Error downloading http://www.dfg.ca.gov/fish/images/FishOnly/CohoSalmon_ByErnest%20Keeley.jpg\n",
            "Error downloading http://farm3.static.flickr.com/2410/2306403424_76da5bb38a.jpg\n",
            "Error downloading http://farm1.static.flickr.com/94/233611459_cc673f6203.jpg\n",
            "Error downloading http://farm4.static.flickr.com/3189/2486650422_2c455730ca.jpg\n",
            "Error downloading http://farm4.static.flickr.com/3238/2777353898_99db69973e.jpg\n",
            "Error downloading http://farm4.static.flickr.com/3245/2806316749_a85a2e1d0f.jpg\n",
            "Error downloading http://farm2.static.flickr.com/1264/1278651880_44fe8f9b70.jpg\n",
            "Error downloading http://farm1.static.flickr.com/91/260564886_6c66708343.jpg\n",
            "Error downloading http://farm1.static.flickr.com/46/154165958_2428872100.jpg\n",
            "Error downloading http://farm3.static.flickr.com/2151/2077711662_c9da691b0a.jpg\n",
            "Error downloading http://farm2.static.flickr.com/1251/1084292263_542314f2ed.jpg\n",
            "Error downloading http://farm4.static.flickr.com/3088/2294965469_d200313929.jpg\n",
            "Error downloading http://farm4.static.flickr.com/3155/2897344310_0cb98bf481.jpg\n",
            "Error downloading http://farm4.static.flickr.com/3219/3006747829_8658331ecd.jpg\n",
            "Error downloading http://farm1.static.flickr.com/254/521168219_ad61ac2925.jpg\n",
            "Error downloading http://farm1.static.flickr.com/32/50021271_c261cd4746.jpg\n",
            "Error downloading http://farm3.static.flickr.com/2341/2021603270_2e53566a23.jpg\n",
            "Error downloading http://farm4.static.flickr.com/3073/2791982836_fefc141d11.jpg\n",
            "Error downloading http://farm2.static.flickr.com/1115/1388069914_0ecc61170d.jpg\n",
            "Error downloading http://farm2.static.flickr.com/1302/1242460238_57b66f8072.jpg\n",
            "Error downloading http://farm2.static.flickr.com/1273/1183434487_0de54007df.jpg\n",
            "Error downloading http://farm1.static.flickr.com/97/273635025_5ca2b872b9.jpg\n",
            "Error downloading http://farm2.static.flickr.com/1153/1155345869_3f36e2785b.jpg\n",
            "Error downloading http://farm2.static.flickr.com/1082/1010685601_0b99c42459.jpg\n",
            "Error downloading http://farm1.static.flickr.com/90/216672026_29775b3680.jpg\n",
            "Error downloading http://farm4.static.flickr.com/3130/2791131243_7b257bc08b.jpg\n",
            "Error downloading http://farm2.static.flickr.com/1124/917843339_6485bec882.jpg\n",
            "Error downloading http://farm4.static.flickr.com/3265/2791983612_b1ef77c740.jpg\n",
            "Error downloading http://farm2.static.flickr.com/1104/1061636927_55150f759c.jpg\n",
            "Error downloading http://farm2.static.flickr.com/1182/1155341513_68ffbeb5f5.jpg\n",
            "Error downloading http://farm4.static.flickr.com/3096/2638045329_4d8166932d.jpg\n",
            "Error downloading http://farm4.static.flickr.com/3205/2919672812_a2deec6048.jpg\n",
            "Error downloading http://farm3.static.flickr.com/2016/2021623960_46399ec0ef.jpg\n",
            "Error downloading http://farm2.static.flickr.com/1020/1225404080_8048600a94.jpg\n",
            "Error downloading http://farm4.static.flickr.com/3257/2791981278_00389ecea0.jpg\n",
            "Error downloading http://farm1.static.flickr.com/45/171147851_0fa3cc8321.jpg\n",
            "Error downloading http://farm2.static.flickr.com/1117/1347194721_589b1b7c93.jpg\n",
            "Error downloading http://farm2.static.flickr.com/1280/1140037425_fc25db4d3e.jpg\n"
          ]
        },
        {
          "output_type": "stream",
          "name": "stderr",
          "text": [
            "WARNING:urllib3.connectionpool:Retrying (Retry(total=9, connect=0, read=1, redirect=2, status=None)) after connection broken by 'NewConnectionError('<urllib3.connection.HTTPConnection object at 0x7f4912f00fa0>: Failed to establish a new connection: [Errno 110] Connection timed out')': /images/PNGSsalmon07.jpg\n",
            "WARNING:urllib3.connectionpool:Retrying (Retry(total=9, connect=0, read=1, redirect=2, status=None)) after connection broken by 'NewConnectionError('<urllib3.connection.HTTPConnection object at 0x7f4912f00820>: Failed to establish a new connection: [Errno -2] Name or service not known')': /images/salmon_pg/group_salmon_fishing.jpg\n"
          ]
        },
        {
          "output_type": "stream",
          "name": "stdout",
          "text": [
            "Error downloading http://www.fishingoregon.net/images/PNGSsalmon07.jpg\n",
            "Error downloading http://www.portlandsalmonfishing.com/images/salmon_pg/group_salmon_fishing.jpg\n",
            "Error downloading http://www.self-catering-breaks.com/images/property_pictures/7654_1163794241.jpg\n",
            "Error downloading http://www.aktroutfitters.com/images/silvers.jpg\n",
            "Error downloading http://www.salmonsafe.org/images/coho.jpg\n"
          ]
        },
        {
          "output_type": "stream",
          "name": "stderr",
          "text": [
            "WARNING:urllib3.connectionpool:Retrying (Retry(total=9, connect=0, read=1, redirect=2, status=None)) after connection broken by 'NewConnectionError('<urllib3.connection.HTTPConnection object at 0x7f4912ed3550>: Failed to establish a new connection: [Errno 110] Connection timed out')': /images/12/photos/2007/11/15/gallery/3147.jpg\n"
          ]
        },
        {
          "output_type": "stream",
          "name": "stdout",
          "text": [
            "Error downloading http://spotted.charleston.net/images/12/photos/2007/11/15/gallery/3147.jpg\n",
            "Error downloading http://michiganstreamside.com/upcoming2.jpg\n",
            "Error downloading http://www.cordovarose.com/images/silversalmon.jpg\n"
          ]
        },
        {
          "output_type": "stream",
          "name": "stderr",
          "text": [
            "WARNING:urllib3.connectionpool:Retrying (Retry(total=9, connect=0, read=1, redirect=2, status=None)) after connection broken by 'NewConnectionError('<urllib3.connection.HTTPConnection object at 0x7f4912ed3370>: Failed to establish a new connection: [Errno -2] Name or service not known')': /images/coho_salmon.jpg\n"
          ]
        },
        {
          "output_type": "stream",
          "name": "stdout",
          "text": [
            "Error downloading http://www.driftingonthefly.com/images/rainbows/sctrnbw06_07.jpg\n",
            "Error downloading http://www.tyeeatercharters.com/images/coho_salmon.jpg\n"
          ]
        },
        {
          "output_type": "stream",
          "name": "stderr",
          "text": [
            "WARNING:urllib3.connectionpool:Retrying (Retry(total=9, connect=1, read=0, redirect=2, status=None)) after connection broken by 'ProtocolError('Connection aborted.', ConnectionResetError(104, 'Connection reset by peer'))': /images/heros/salmon.jpg\n"
          ]
        },
        {
          "output_type": "stream",
          "name": "stdout",
          "text": [
            "Error downloading http://www.charterboatsbc.com/images/heros/salmon.jpg\n"
          ]
        },
        {
          "output_type": "stream",
          "name": "stderr",
          "text": [
            "WARNING:urllib3.connectionpool:Retrying (Retry(total=9, connect=0, read=1, redirect=2, status=None)) after connection broken by 'NewConnectionError('<urllib3.connection.HTTPConnection object at 0x7f4912f575b0>: Failed to establish a new connection: [Errno -2] Name or service not known')': /cdciw/biomes/king1.jpg\n"
          ]
        },
        {
          "output_type": "stream",
          "name": "stdout",
          "text": [
            "Error downloading http://www.skeetchestn.ca/Natural%20Resources%20Website/SARAImages/CSalmon.jpg\n",
            "Error downloading http://www2.kpr.edu.on.ca/cdciw/biomes/king1.jpg\n",
            "Error downloading http://www.mattfender.net/alaska/dave%20with%20two%20silvers.jpg\n",
            "Error downloading http://bonshellfishing.com/G.%20L.%20Salmon%20&%20Trout%20Description%20Pg%202007/Coho%20Salmon%20%20IMG_0970.JPG\n",
            "Error downloading http://www.orcalodge.com/13.jpg\n",
            "Error downloading http://www.outdoorsdirectory.com/images/wilderness_beach.jpg\n"
          ]
        },
        {
          "output_type": "stream",
          "name": "stderr",
          "text": [
            "WARNING:urllib3.connectionpool:Retrying (Retry(total=9, connect=0, read=1, redirect=2, status=None)) after connection broken by 'NewConnectionError('<urllib3.connection.HTTPConnection object at 0x7f4912eee250>: Failed to establish a new connection: [Errno -2] Name or service not known')': /Photos/45963/199454/t/1491860-Big-silver-0.jpg\n",
            "WARNING:urllib3.connectionpool:Retrying (Retry(total=9, connect=0, read=1, redirect=2, status=None)) after connection broken by 'NewConnectionError('<urllib3.connection.HTTPConnection object at 0x7f4912eee9a0>: Failed to establish a new connection: [Errno -2] Name or service not known')': /photos/july22-30%202005%20Salmon%20Fishing%20%20Ch%202/coho%20spring%20ling%20cod%20salmon%20toquart%20bay%20bc.jpg\n"
          ]
        },
        {
          "output_type": "stream",
          "name": "stdout",
          "text": [
            "Error downloading http://www.alaskanfishingadventures.com/PB280171.JPG\n",
            "Error downloading http://img5.travelblog.org/Photos/45963/199454/t/1491860-Big-silver-0.jpg\n",
            "Error downloading http://www.zenwaiterwest.com/photos/july22-30%202005%20Salmon%20Fishing%20%20Ch%202/coho%20spring%20ling%20cod%20salmon%20toquart%20bay%20bc.jpg\n",
            "Error downloading http://www.gosalmonfishing.com/gsfgallery/slides/ryans%20big%20coho.jpg\n",
            "Error downloading http://profish-n-sea.com/images/blond_w_silver_small.jpg\n"
          ]
        },
        {
          "output_type": "stream",
          "name": "stderr",
          "text": [
            "WARNING:urllib3.connectionpool:Retrying (Retry(total=9, connect=0, read=1, redirect=2, status=None)) after connection broken by 'NewConnectionError('<urllib3.connection.HTTPConnection object at 0x7f4912eee370>: Failed to establish a new connection: [Errno -2] Name or service not known')': /images/headers/header_1.jpg\n"
          ]
        },
        {
          "output_type": "stream",
          "name": "stdout",
          "text": [
            "Error downloading http://jigsandreels.net/images/headers/header_1.jpg\n",
            "Error downloading http://alagnakriverlodge.com/images/pics03/mcgrewsilvers.jpg\n",
            "Error downloading http://www.lakemarie.com/Silver%20Salmon/Silver%20Salmon%202.jpg\n",
            "Error downloading http://www.portlandgeneral.com/community_and_env/hydropower_and_fish/images/coho_salmon.jpg\n",
            "Error downloading http://www.bcsturgeon.com/images/salmon-4.jpg\n",
            "Error downloading http://www.greatriverfishing.com/images/PicsPage/PicCoho10.jpg\n",
            "Error downloading http://lh4.ggpht.com/_nxVO3CjsCCc/SKIFZDgR7-I/AAAAAAAAAUQ/Ce-4FimudFo/Alaska_08+(16).jpg\n"
          ]
        },
        {
          "output_type": "stream",
          "name": "stderr",
          "text": [
            "WARNING:urllib3.connectionpool:Retrying (Retry(total=9, connect=0, read=1, redirect=2, status=None)) after connection broken by 'NewConnectionError('<urllib3.connection.HTTPConnection object at 0x7f4912eee910>: Failed to establish a new connection: [Errno -2] Name or service not known')': /images/stories/Gallery2/Lots-of-silver-salmon.jpg\n"
          ]
        },
        {
          "output_type": "stream",
          "name": "stdout",
          "text": [
            "Error downloading http://www.northwestflyfisherman.com/images/markchinook.jpg\n",
            "Error downloading http://www.landsendlodge.com/images/stories/Gallery2/Lots-of-silver-salmon.jpg\n"
          ]
        },
        {
          "output_type": "stream",
          "name": "stderr",
          "text": [
            "WARNING:urllib3.connectionpool:Retrying (Retry(total=9, connect=0, read=1, redirect=2, status=None)) after connection broken by 'NewConnectionError('<urllib3.connection.HTTPConnection object at 0x7f4912f57be0>: Failed to establish a new connection: [Errno -2] Name or service not known')': /Images/September_Nine_Big_COHO.jpg\n"
          ]
        },
        {
          "output_type": "stream",
          "name": "stdout",
          "text": [
            "Error downloading http://www.profishingguide.com/Images/September_Nine_Big_COHO.jpg\n",
            "Error downloading http://natronair.com/photos/imgs/navbl.jpg\n"
          ]
        },
        {
          "output_type": "stream",
          "name": "stderr",
          "text": [
            "WARNING:urllib3.connectionpool:Retrying (Retry(total=9, connect=0, read=1, redirect=2, status=None)) after connection broken by 'NewConnectionError('<urllib3.connection.HTTPConnection object at 0x7f4912ed37f0>: Failed to establish a new connection: [Errno -2] Name or service not known')': /18/1/88/55/192318855dWPDtw_fs.jpg\n"
          ]
        },
        {
          "output_type": "stream",
          "name": "stdout",
          "text": [
            "Error downloading http://www.moosecreek.com/ni.JPG\n",
            "Error downloading http://image18.webshots.com/18/1/88/55/192318855dWPDtw_fs.jpg\n",
            "Error downloading http://www.alaskanfishing.com/photos/silversalmon226at180.jpg\n",
            "Error downloading http://www.alaskagoodtimecharters.com/sys/docs/38.jpg\n",
            "Error downloading http://www.anglersalibi.com/200308silver.jpg\n",
            "Error downloading http://i.pbase.com/u39/statu/upload/32462078.bearandlunch.jpg\n"
          ]
        },
        {
          "output_type": "stream",
          "name": "stderr",
          "text": [
            "WARNING:urllib3.connectionpool:Retrying (Retry(total=9, connect=0, read=1, redirect=2, status=None)) after connection broken by 'NewConnectionError('<urllib3.connection.HTTPConnection object at 0x7f4912ed3df0>: Failed to establish a new connection: [Errno -2] Name or service not known')': /i/fish%20pictures/billsilver2.jpg\n"
          ]
        },
        {
          "output_type": "stream",
          "name": "stdout",
          "text": [
            "Error downloading http://www.deltanewsweb.com/archives/images/20021016_coho.jpg\n",
            "Error downloading http://www.handsontheland.org/sitedata/wolf/coho01.jpg\n",
            "Error downloading http://www.trophycatchcharters.com/i/fish%20pictures/billsilver2.jpg\n",
            "Error downloading http://www.nahabayoutdooradventures.com/bryan_pradines_silver.jpg\n",
            "Error downloading http://www.desirefish.com/images/susannah-coho-wide.jpg\n"
          ]
        },
        {
          "output_type": "stream",
          "name": "stderr",
          "text": [
            "WARNING:urllib3.connectionpool:Retrying (Retry(total=9, connect=0, read=1, redirect=2, status=None)) after connection broken by 'NewConnectionError('<urllib3.connection.HTTPConnection object at 0x7f4912ed3760>: Failed to establish a new connection: [Errno -2] Name or service not known')': /picture_library/swfishing_gallery/Coho%20Fly_std.jpg\n"
          ]
        },
        {
          "output_type": "stream",
          "name": "stdout",
          "text": [
            "Error downloading http://www.massethouse.com/picture_library/swfishing_gallery/Coho%20Fly_std.jpg\n",
            "Error downloading http://www.thefishhouse.net/images/salmon_page.jpg\n",
            "Error downloading http://www.southbeachfishmarket.com/images/salmonsf.jpg\n",
            "Error downloading http://raincoastresearch.org/graphics/images/coho-ad-w250.jpg\n",
            "Error downloading http://www.paintercreeklodge.com/pcl10.jpg\n",
            "Error downloading http://newwestminsterbc.com/Images/fishing/fish/fish_cohosalmon_1.jpg\n",
            "Error downloading http://www.alaskatrophyadventures.com/billchar-1wbrdy.jpg\n"
          ]
        },
        {
          "output_type": "stream",
          "name": "stderr",
          "text": [
            "WARNING:urllib3.connectionpool:Retrying (Retry(total=9, connect=0, read=1, redirect=2, status=None)) after connection broken by 'NewConnectionError('<urllib3.connection.HTTPConnection object at 0x7f4912f00af0>: Failed to establish a new connection: [Errno -2] Name or service not known')': /PAGES/BOATBASIN2005/17.9silverfboshear20oct580x.jpg\n",
            "WARNING:urllib3.connectionpool:Retrying (Retry(total=9, connect=0, read=1, redirect=2, status=None)) after connection broken by 'NewConnectionError('<urllib3.connection.HTTPConnection object at 0x7f4912f007f0>: Failed to establish a new connection: [Errno -2] Name or service not known')': /images/photos/wierenga.JPG\n"
          ]
        },
        {
          "output_type": "stream",
          "name": "stdout",
          "text": [
            "Error downloading http://www.lakemichiganangler.com/graphics/fish2000_animation2.gif\n",
            "Error downloading http://anglercharters.net/PAGES/BOATBASIN2005/17.9silverfboshear20oct580x.jpg\n",
            "Error downloading http://fishstjoseph.com/images/photos/wierenga.JPG\n",
            "Error downloading http://www.lakemarie.com/Silver%20Salmon/Ken's%20Silver%20Salmon%202.jpg\n"
          ]
        },
        {
          "output_type": "stream",
          "name": "stderr",
          "text": [
            "WARNING:urllib3.connectionpool:Retrying (Retry(total=9, connect=0, read=1, redirect=2, status=None)) after connection broken by 'NewConnectionError('<urllib3.connection.HTTPConnection object at 0x7f4912f00e20>: Failed to establish a new connection: [Errno -2] Name or service not known')': /r10/ro/naturewatch/images/photos/wildlife/fish/salmon4.JPG\n",
            "WARNING:urllib3.connectionpool:Retrying (Retry(total=9, connect=0, read=1, redirect=2, status=None)) after connection broken by 'NewConnectionError('<urllib3.connection.HTTPConnection object at 0x7f4912f00bb0>: Failed to establish a new connection: [Errno -2] Name or service not known')': /site/babyboomers/images/trout_fishing/USA/Silver_King_salmon_1.jpg\n"
          ]
        },
        {
          "output_type": "stream",
          "name": "stdout",
          "text": [
            "Error downloading http://www.fs.fed.us/r10/ro/naturewatch/images/photos/wildlife/fish/salmon4.JPG\n",
            "Error downloading http://www.babyboomersguide.co.nz/site/babyboomers/images/trout_fishing/USA/Silver_King_salmon_1.jpg\n"
          ]
        },
        {
          "output_type": "stream",
          "name": "stderr",
          "text": [
            "WARNING:urllib3.connectionpool:Retrying (Retry(total=9, connect=0, read=1, redirect=2, status=None)) after connection broken by 'NewConnectionError('<urllib3.connection.HTTPConnection object at 0x7f4912ed35e0>: Failed to establish a new connection: [Errno 110] Connection timed out')': /%7Ebrown/yoksilver.jpg\n"
          ]
        },
        {
          "output_type": "stream",
          "name": "stdout",
          "text": [
            "Error downloading http://www.mtaonline.net/%7ebrown/yoksilver.jpg\n"
          ]
        },
        {
          "output_type": "stream",
          "name": "stderr",
          "text": [
            "WARNING:urllib3.connectionpool:Retrying (Retry(total=9, connect=0, read=1, redirect=2, status=None)) after connection broken by 'NewConnectionError('<urllib3.connection.HTTPConnection object at 0x7f4912ed31c0>: Failed to establish a new connection: [Errno -2] Name or service not known')': /21/1/81/99/192318199YhVkyf_fs.jpg\n"
          ]
        },
        {
          "output_type": "stream",
          "name": "stdout",
          "text": [
            "Error downloading http://image20.webshots.com/21/1/81/99/192318199YhVkyf_fs.jpg\n",
            "Error downloading http://www.greatriverfishing.com/images/Small/PicCoho3_small.jpg\n",
            "Error downloading http://www.pittriver.com/images/text-photo-coho1.jpg\n"
          ]
        },
        {
          "output_type": "stream",
          "name": "stderr",
          "text": [
            "WARNING:urllib3.connectionpool:Retrying (Retry(total=9, connect=0, read=1, redirect=2, status=None)) after connection broken by 'NewConnectionError('<urllib3.connection.HTTPConnection object at 0x7f4912ed3340>: Failed to establish a new connection: [Errno 110] Connection timed out')': /ianjames/images/coho.jpg\n"
          ]
        },
        {
          "output_type": "stream",
          "name": "stdout",
          "text": [
            "Error downloading http://www3.sympatico.ca/ianjames/images/coho.jpg\n"
          ]
        },
        {
          "output_type": "stream",
          "name": "stderr",
          "text": [
            "WARNING:urllib3.connectionpool:Retrying (Retry(total=9, connect=0, read=1, redirect=2, status=None)) after connection broken by 'NewConnectionError('<urllib3.connection.HTTPConnection object at 0x7f4912ed3790>: Failed to establish a new connection: [Errno -2] Name or service not known')': /HappyJoanne.jpg\n"
          ]
        },
        {
          "output_type": "stream",
          "name": "stdout",
          "text": [
            "Error downloading http://www.public.asu.edu/~bvogt/mtn/alaska/21/d_with_silver_eyak.jpg\n",
            "Error downloading http://www.coffmancovecharters.com/HappyJoanne.jpg\n"
          ]
        },
        {
          "output_type": "stream",
          "name": "stderr",
          "text": [
            "WARNING:urllib3.connectionpool:Retrying (Retry(total=9, connect=0, read=1, redirect=2, status=None)) after connection broken by 'NewConnectionError('<urllib3.connection.HTTPConnection object at 0x7f4912eeeb20>: Failed to establish a new connection: [Errno 110] Connection timed out')': /%7Ebrown/silveranchor.jpg\n"
          ]
        },
        {
          "output_type": "stream",
          "name": "stdout",
          "text": [
            "Error downloading http://www.mtaonline.net/%7ebrown/silveranchor.jpg\n",
            "Error downloading http://www.sewardak.org/images/misc/page_photos/Anna%20caught%20a%20silver.jpg\n",
            "Error downloading http://www.pnwsalmoncenter.org/images/coho_spawning2.jpg\n",
            "Error downloading http://fishthesalmonriver.com/albums/rome_taxidermy/DanCarleCoho.thumb.jpg\n",
            "Error downloading http://www.lenssportfishing-bc.com/images/home2.jpg\n",
            "Error downloading http://www.alaskariveradventures.com/images/king%20salmon%20by%20stephanie%20holland.jpg\n",
            "Error downloading http://www.bearsdenlodge.com/images/salmonjeff.jpg\n"
          ]
        },
        {
          "output_type": "stream",
          "name": "stderr",
          "text": [
            "WARNING:urllib3.connectionpool:Retrying (Retry(total=9, connect=0, read=1, redirect=2, status=None)) after connection broken by 'NewConnectionError('<urllib3.connection.HTTPConnection object at 0x7f4912eeed30>: Failed to establish a new connection: [Errno -2] Name or service not known')': /images/man-salmon.jpg\n"
          ]
        },
        {
          "output_type": "stream",
          "name": "stdout",
          "text": [
            "Error downloading http://www.grayling-on-a-fly.com/images/man-salmon.jpg\n"
          ]
        },
        {
          "output_type": "stream",
          "name": "stderr",
          "text": [
            "WARNING:urllib3.connectionpool:Retrying (Retry(total=9, connect=1, read=0, redirect=2, status=None)) after connection broken by 'ProtocolError('Connection aborted.', ConnectionResetError(104, 'Connection reset by peer'))': /gallery/images/SilverSalmon.jpg\n"
          ]
        },
        {
          "output_type": "stream",
          "name": "stdout",
          "text": [
            "Error downloading http://akoffshoreoutfitters.com/gallery/images/SilverSalmon.jpg\n"
          ]
        },
        {
          "output_type": "stream",
          "name": "stderr",
          "text": [
            "WARNING:urllib3.connectionpool:Retrying (Retry(total=9, connect=0, read=1, redirect=2, status=None)) after connection broken by 'NewConnectionError('<urllib3.connection.HTTPConnection object at 0x7f4912eeed60>: Failed to establish a new connection: [Errno -2] Name or service not known')': /images-photo_gallery/2004-08-23-02.jpg\n",
            "WARNING:urllib3.connectionpool:Retrying (Retry(total=9, connect=0, read=1, redirect=2, status=None)) after connection broken by 'NewConnectionError('<urllib3.connection.HTTPConnection object at 0x7f4912ed37f0>: Failed to establish a new connection: [Errno -2] Name or service not known')': /images/fishboat251.jpg\n"
          ]
        },
        {
          "output_type": "stream",
          "name": "stdout",
          "text": [
            "Error downloading http://www.creeksideflyfishing.com/Salmon2003.jpg\n",
            "Error downloading http://www.jimsfishing.com/images-photo_gallery/2004-08-23-02.jpg\n",
            "Error downloading http://www.bristolbayadventures.com/images/silver_salmon_fishing_2.jpg\n",
            "Error downloading http://alaskanadventures.biz/images/fishboat251.jpg\n",
            "Error downloading http://www.gwinslodge.com/KENPHIL-SILVER.jpg\n",
            "Error downloading http://i20.photobucket.com/albums/b218/grandpawrichard/Alaska%20Fishing%202008/AhappygroupwithsomeniceCohoSalmonsm.jpg\n",
            "Error downloading http://www.guidebc.com/images/img0085_300.jpg\n"
          ]
        },
        {
          "output_type": "stream",
          "name": "stderr",
          "text": [
            "WARNING:urllib3.connectionpool:Retrying (Retry(total=9, connect=0, read=1, redirect=2, status=None)) after connection broken by 'NewConnectionError('<urllib3.connection.HTTPConnection object at 0x7f4912ed38e0>: Failed to establish a new connection: [Errno -2] Name or service not known')': /manuesteve/cohodigging1.jpg\n",
            "WARNING:urllib3.connectionpool:Retrying (Retry(total=9, connect=0, read=1, redirect=2, status=None)) after connection broken by 'NewConnectionError('<urllib3.connection.HTTPConnection object at 0x7f4912ed3250>: Failed to establish a new connection: [Errno -2] Name or service not known')': /images/3478912/images/Chris%20with%20Coho%20Salmon.jpg\n"
          ]
        },
        {
          "output_type": "stream",
          "name": "stdout",
          "text": [
            "Error downloading http://www.zoo.utoronto.ca/manuesteve/cohodigging1.jpg\n",
            "Error downloading http://www.flycastingguide.com/images/3478912/images/Chris%20with%20Coho%20Salmon.jpg\n",
            "Error downloading http://www.skeetchestn.ca/Natural%20Resources%20Website/SARAImages/CSalmon2.jpg\n",
            "Error downloading http://www.fish-hawk.net/gallery/albums/userpics/10498/normal_PL%20Coho%20May%2029th.jpg\n",
            "Error downloading http://wildsalmoncenter.org/i/salmon/coho_spawn.jpg\n",
            "Error downloading http://www.acefishn.com/albums/Silver-Salmon/2003_Silver.sized.jpg\n"
          ]
        },
        {
          "output_type": "error",
          "ename": "SystemExit",
          "evalue": "ignored",
          "traceback": [
            "An exception has occurred, use %tb to see the full traceback.\n",
            "\u001b[0;31mSystemExit\u001b[0m\u001b[0;31m:\u001b[0m 0\n"
          ]
        },
        {
          "output_type": "stream",
          "name": "stderr",
          "text": [
            "/usr/local/lib/python3.8/dist-packages/IPython/core/interactiveshell.py:3334: UserWarning: To exit: use 'exit', 'quit', or Ctrl-D.\n",
            "  warn(\"To exit: use 'exit', 'quit', or Ctrl-D.\", stacklevel=1)\n"
          ]
        }
      ]
    },
    {
      "cell_type": "code",
      "source": [
        "import torchvision\n",
        "from torchvision import transforms\n",
        "train_data_path = \"./train/\"\n",
        "transforms = transforms.Compose([\n",
        "  transforms.Resize(64),\n",
        "  transforms.ToTensor(),\n",
        "  transforms.Normalize(mean=[0.485, 0.456, 0.406], std=[0.229, 0.224, 0.225])])\n",
        "train_data = torchvision.datasets.ImageFolder(root=train_data_path,transform=transforms)"
      ],
      "metadata": {
        "id": "lEK5o3jf41gp"
      },
      "execution_count": 42,
      "outputs": []
    },
    {
      "cell_type": "code",
      "source": [
        "train_data"
      ],
      "metadata": {
        "colab": {
          "base_uri": "https://localhost:8080/"
        },
        "id": "fVzAbG_e7TWj",
        "outputId": "ff9ff5b9-2ca1-4268-af42-239aca32d66f"
      },
      "execution_count": 43,
      "outputs": [
        {
          "output_type": "execute_result",
          "data": {
            "text/plain": [
              "Dataset ImageFolder\n",
              "    Number of datapoints: 976\n",
              "    Root location: ./train/\n",
              "    StandardTransform\n",
              "Transform: Compose(\n",
              "               Resize(size=64, interpolation=bilinear, max_size=None, antialias=None)\n",
              "               ToTensor()\n",
              "               Normalize(mean=[0.485, 0.456, 0.406], std=[0.229, 0.224, 0.225])\n",
              "           )"
            ]
          },
          "metadata": {},
          "execution_count": 43
        }
      ]
    },
    {
      "cell_type": "code",
      "source": [],
      "metadata": {
        "id": "F0ueho3A8Jh6"
      },
      "execution_count": null,
      "outputs": []
    }
  ]
}