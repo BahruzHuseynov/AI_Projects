{
  "nbformat": 4,
  "nbformat_minor": 0,
  "metadata": {
    "colab": {
      "provenance": [],
      "authorship_tag": "ABX9TyNx0LgN4coHNy6nbCorihDP",
      "include_colab_link": true
    },
    "kernelspec": {
      "name": "python3",
      "display_name": "Python 3"
    },
    "language_info": {
      "name": "python"
    }
  },
  "cells": [
    {
      "cell_type": "markdown",
      "metadata": {
        "id": "view-in-github",
        "colab_type": "text"
      },
      "source": [
        "<a href=\"https://colab.research.google.com/github/BahruzHuseynov/AI_Projects/blob/main/Aladdin_EfficientNet.ipynb\" target=\"_parent\"><img src=\"https://colab.research.google.com/assets/colab-badge.svg\" alt=\"Open In Colab\"/></a>"
      ]
    },
    {
      "cell_type": "code",
      "execution_count": 1,
      "metadata": {
        "colab": {
          "base_uri": "https://localhost:8080/"
        },
        "id": "LP62D3GXKO3J",
        "outputId": "8c91a59a-ddca-43e1-e056-9de67f64e8fe"
      },
      "outputs": [
        {
          "output_type": "stream",
          "name": "stdout",
          "text": [
            "Looking in indexes: https://pypi.org/simple, https://us-python.pkg.dev/colab-wheels/public/simple/\n",
            "Requirement already satisfied: torch in /usr/local/lib/python3.9/dist-packages (1.13.1+cu116)\n",
            "Requirement already satisfied: typing-extensions in /usr/local/lib/python3.9/dist-packages (from torch) (4.5.0)\n"
          ]
        }
      ],
      "source": [
        "!pip install torch"
      ]
    },
    {
      "cell_type": "code",
      "source": [
        "# Implementation of needy libraries\n",
        "import torch\n",
        "import torch.nn as nn"
      ],
      "metadata": {
        "id": "De34DQl7KUbp"
      },
      "execution_count": 2,
      "outputs": []
    },
    {
      "cell_type": "code",
      "source": [
        "base_model = [\n",
        "    # expand_ratio, channels, repeats, stride, kernel_size\n",
        "    [1, 16, 1, 1, 3],\n",
        "    [6, 24, 2, 2, 3],\n",
        "    [6, 40, 2, 2, 3],\n",
        "    [6, 80, 3, 2, 3],\n",
        "    [6, 112, 3, 1, 5],\n",
        "    [6, 192, 4, 2, 5],\n",
        "    [6, 320, 1, 1, 3]\n",
        "]"
      ],
      "metadata": {
        "id": "ZeGtTt3lK7y8"
      },
      "execution_count": 3,
      "outputs": []
    },
    {
      "cell_type": "code",
      "source": [
        "efficient_net_config = {\n",
        "    # tuple of width multiplier, depth multiplier, resolution, and Survival Prob\n",
        "    \"b0\" : [1.0, 1.0, 224, 0.2],\n",
        "    \"b1\" : [1.0, 1.1, 240, 0.2],\n",
        "    \"b2\" : [1.1, 1.2, 260, 0.3],\n",
        "    \"b3\" : [1.2, 1.4, 300, 0.3],\n",
        "    \"b4\" : [1.4, 1.8, 380, 0.4],\n",
        "    \"b5\" : [1.6, 2.2, 456, 0.4],\n",
        "    \"b6\" : [1.8, 2.6, 528, 0.5],\n",
        "    \"b7\" : [2.0, 3.1, 600, 0.5]\n",
        "}"
      ],
      "metadata": {
        "id": "CFYrwBE_Ml4p"
      },
      "execution_count": 4,
      "outputs": []
    },
    {
      "cell_type": "code",
      "source": [
        "phi_values = {\n",
        "    # alpha, beta, gamma, depth = alpha ** phi\n",
        "    'b0' : (0, 224, 0.2),\n",
        "    'b1' : (0.5, 240, 0.2),\n",
        "    'b2' : (1, 260, 0.3),\n",
        "    'b3' : (2, 300, 0.3),\n",
        "    'b4' : (3, 380, 0.4),\n",
        "    'b5' : (4, 456, 0.4),\n",
        "    'b6' : (5, 528, 0.5),\n",
        "    'b7' : (6, 600, 0.5),\n",
        "}"
      ],
      "metadata": {
        "id": "DbFvY-mFSnBl"
      },
      "execution_count": 13,
      "outputs": []
    },
    {
      "cell_type": "code",
      "source": [
        "class CNNBlock(nn.Module):\n",
        "  def __init__(self, \n",
        "               in_channels, \n",
        "               out_channels, \n",
        "               kernel_size, \n",
        "               stride, \n",
        "               padding, \n",
        "               groups = 1):\n",
        "    super(CNNBlock, self).__init__()\n",
        "\n",
        "    # Depthwise Convolution\n",
        "    self.cnn = nn.Conv2d(\n",
        "        in_channels,\n",
        "        out_channels,\n",
        "        kernel_size,\n",
        "        stride,\n",
        "        padding,\n",
        "        groups=groups,\n",
        "        bias=False,\n",
        "    )\n",
        "    self.bn = nn.BatchNorm2d(out_channels) \n",
        "    self.silu = nn.SiLU() # Swish\n",
        "  \n",
        "  def forward(self, x):\n",
        "    return self.silu(self.bn(self.cnn(x)))"
      ],
      "metadata": {
        "id": "1hP75fp3NSy1"
      },
      "execution_count": 10,
      "outputs": []
    },
    {
      "cell_type": "code",
      "source": [
        "class SqueezeExcitation(nn.Module):\n",
        "  def __init__(self, \n",
        "               in_channels, \n",
        "               reduced_dim):\n",
        "    super(SqueezeExcitation, self).__init__()\n",
        "\n",
        "    self.se = nn.Sequential(\n",
        "        nn.AdaptiveAvgPool2d(1),\n",
        "        nn.Conv2d(in_channels, reduced_dim, 1),\n",
        "        nn.SiLU(),\n",
        "        nn.Conv2d(),\n",
        "        nn.Conv2d(reduced_dim, in_channels, 1),\n",
        "        nn.Sigmoid()\n",
        "    )\n",
        "\n",
        "    def forward(self, x):\n",
        "      return x*self.se(x)"
      ],
      "metadata": {
        "id": "t5_--LvxNiv3"
      },
      "execution_count": 11,
      "outputs": []
    },
    {
      "cell_type": "code",
      "source": [
        "class InvertedResidualBlock(nn.Module):\n",
        "  def __init__(self, \n",
        "               in_channels, \n",
        "               out_channels, \n",
        "               kernel_size, \n",
        "               stride, \n",
        "               padding, \n",
        "               expand_ratio,\n",
        "               reduction = 4, # squeeze excitation\n",
        "               survival_prob = 0.8): # stochastic depth\n",
        "    super(InvertedResidualBlock, self).__init__()\n",
        "    self.survival_prob = survival_prob\n",
        "    self.use_residual = in_channels == out_channels and stride == 1\n",
        "    hidden_dim = in_channels * expand_ratio\n",
        "    self.expand = in_channels != hidden_dim\n",
        "    reduced_dim = int(in_channels/reduction)\n",
        "    \n",
        "    if self.expand:\n",
        "      self.expand_conv = CNNBlock(\n",
        "          in_channels, hidden_dim, kernel_size = 3, stride = 1, padding = 1\n",
        "      )\n",
        "    \n",
        "    self.conv = nn.Sequential(\n",
        "        CNNBlock(\n",
        "            hidden_dim, \n",
        "            hidden_dim, \n",
        "            kernel_size, \n",
        "            stride, padding,\n",
        "            groups = hidden_dim, \n",
        "        ),\n",
        "        SqueezeExcitation(hidden_dim, reduced_dim),\n",
        "        nn.Conv2d(hidden_dim, out_channels, 1, bias = False),\n",
        "        nn.BatchNorm2d(out_channels)\n",
        "    )\n",
        "\n",
        "  def stochastic_depth(self, x):\n",
        "    if not self.training:\n",
        "      return x\n",
        "    \n",
        "    binary_tensor = torch.rand(x.shape[0], 1, 1, 1, device = x.device) < self.survival_prob\n",
        "    return torch.div(x, self.survival_prob)*binary_tensor\n",
        "\n",
        "  def forward(self, inputs):\n",
        "    x = self.expand_conv(inputs) if self.expand else inputs\n",
        "\n",
        "    if self.use_residual:\n",
        "      return self.stochastic_depth(self.conv(x)) + inputs\n",
        "    else:\n",
        "      return self.conv(x)\n"
      ],
      "metadata": {
        "id": "QxVWLXr_NmBv"
      },
      "execution_count": 12,
      "outputs": []
    },
    {
      "cell_type": "code",
      "source": [
        "from math import ceil\n",
        "class EfficientNet(nn.Module):\n",
        "  def __init__(self, version, num_classes):\n",
        "    super(EfficientNet, self).__init__()\n",
        "    width_factor, depth_factor, dropout_rate = self.calculate_factors(version)\n",
        "\n",
        "  def calculate_factors(self, version, alpha = 1.2, beta = 1.1):\n",
        "    phi, res, drop_rate = phi_values[version]\n",
        "    depth_factor = alpha ** phi\n",
        "    width_factor = beta ** phi\n",
        "    return width_factor, depth_factor, drop_rate\n",
        "  \n",
        "  def create_features(self, width_factor, depth_factor, last_channels):\n",
        "    channels = int(32*width_factor)\n",
        "    features = [CNNBlock(3, channels, 3, stride=2, padding=1)]\n",
        "    in_channels = channels\n",
        "\n",
        "    for expand_ratio, channels, repeats, stride, kernel_size in base_model:\n",
        "      out_channels = 4*ceil(int(channels*width_factor) / 4)\n",
        "      layers_repeats = ceil(repeats * depth_factor)\n",
        "\n",
        "      for layer in range(layers_repeats):\n",
        "        features.append(\n",
        "            InvertedResidualBlock(\n",
        "                in_channels, out_channels, expand_ratio=expand_ratio,\n",
        "                stride = stride if layer == 0 else 1,\n",
        "                kernel_size=kernel_size,\n",
        "                padding=kernel_size//2, \n",
        "                #if k = 1, pad = 0;\n",
        "                #if k = 3, pad = 1;\n",
        "            )\n",
        "        )\n",
        "\n",
        "        in_channels = out_channels\n",
        "      \n",
        "      features.append(\n",
        "          CNNBlock(in_channels, last_channels, kernel_size=1, \n",
        "                   stride = 1, padding = 0)\n",
        "      )\n",
        "\n",
        "      return nn.Sequential(*features)\n",
        "\n",
        "  def forward(self, x):\n",
        "    x = self.pool(self.features(x))\n",
        "    return self.classifier(x.view(x.shape[0], -1))"
      ],
      "metadata": {
        "id": "1yUosLilNsUb"
      },
      "execution_count": 22,
      "outputs": []
    },
    {
      "cell_type": "code",
      "source": [
        "def test():\n",
        "  device = \"cuda\" if torch.cuda.is_available() else \"cpu\"\n",
        "  version = \"b0\"\n",
        "  phi, res, drop_rate = phi_values[version]\n",
        "  num_examples, num_classes = 4, 10\n",
        "  x = torch.randn((num_examples, 3, res, res))\n",
        "  model = EfficientNet(version = version,\n",
        "                       num_classes = num_classes).to(device)\n",
        "  print(model(x).shape)"
      ],
      "metadata": {
        "id": "JOTiNUYYNvEs"
      },
      "execution_count": 23,
      "outputs": []
    },
    {
      "cell_type": "code",
      "source": [
        "test()"
      ],
      "metadata": {
        "colab": {
          "base_uri": "https://localhost:8080/",
          "height": 311
        },
        "id": "UiIqZPmkVl0F",
        "outputId": "67acb30a-cfa0-4945-e63c-8ebb9fad2941"
      },
      "execution_count": 24,
      "outputs": [
        {
          "output_type": "error",
          "ename": "AttributeError",
          "evalue": "ignored",
          "traceback": [
            "\u001b[0;31m---------------------------------------------------------------------------\u001b[0m",
            "\u001b[0;31mAttributeError\u001b[0m                            Traceback (most recent call last)",
            "\u001b[0;32m<ipython-input-24-fbd55f77ab7c>\u001b[0m in \u001b[0;36m<module>\u001b[0;34m\u001b[0m\n\u001b[0;32m----> 1\u001b[0;31m \u001b[0mtest\u001b[0m\u001b[0;34m(\u001b[0m\u001b[0;34m)\u001b[0m\u001b[0;34m\u001b[0m\u001b[0;34m\u001b[0m\u001b[0m\n\u001b[0m",
            "\u001b[0;32m<ipython-input-23-d06c8296370c>\u001b[0m in \u001b[0;36mtest\u001b[0;34m()\u001b[0m\n\u001b[1;32m      7\u001b[0m   model = EfficientNet(version = version,\n\u001b[1;32m      8\u001b[0m                        num_classes = num_classes).to(device)\n\u001b[0;32m----> 9\u001b[0;31m   \u001b[0mprint\u001b[0m\u001b[0;34m(\u001b[0m\u001b[0mmodel\u001b[0m\u001b[0;34m(\u001b[0m\u001b[0mx\u001b[0m\u001b[0;34m)\u001b[0m\u001b[0;34m.\u001b[0m\u001b[0mshape\u001b[0m\u001b[0;34m)\u001b[0m\u001b[0;34m\u001b[0m\u001b[0;34m\u001b[0m\u001b[0m\n\u001b[0m",
            "\u001b[0;32m/usr/local/lib/python3.9/dist-packages/torch/nn/modules/module.py\u001b[0m in \u001b[0;36m_call_impl\u001b[0;34m(self, *input, **kwargs)\u001b[0m\n\u001b[1;32m   1192\u001b[0m         if not (self._backward_hooks or self._forward_hooks or self._forward_pre_hooks or _global_backward_hooks\n\u001b[1;32m   1193\u001b[0m                 or _global_forward_hooks or _global_forward_pre_hooks):\n\u001b[0;32m-> 1194\u001b[0;31m             \u001b[0;32mreturn\u001b[0m \u001b[0mforward_call\u001b[0m\u001b[0;34m(\u001b[0m\u001b[0;34m*\u001b[0m\u001b[0minput\u001b[0m\u001b[0;34m,\u001b[0m \u001b[0;34m**\u001b[0m\u001b[0mkwargs\u001b[0m\u001b[0;34m)\u001b[0m\u001b[0;34m\u001b[0m\u001b[0;34m\u001b[0m\u001b[0m\n\u001b[0m\u001b[1;32m   1195\u001b[0m         \u001b[0;31m# Do not call functions when jit is used\u001b[0m\u001b[0;34m\u001b[0m\u001b[0;34m\u001b[0m\u001b[0m\n\u001b[1;32m   1196\u001b[0m         \u001b[0mfull_backward_hooks\u001b[0m\u001b[0;34m,\u001b[0m \u001b[0mnon_full_backward_hooks\u001b[0m \u001b[0;34m=\u001b[0m \u001b[0;34m[\u001b[0m\u001b[0;34m]\u001b[0m\u001b[0;34m,\u001b[0m \u001b[0;34m[\u001b[0m\u001b[0;34m]\u001b[0m\u001b[0;34m\u001b[0m\u001b[0;34m\u001b[0m\u001b[0m\n",
            "\u001b[0;32m<ipython-input-22-6374b5512d0e>\u001b[0m in \u001b[0;36mforward\u001b[0;34m(self, x)\u001b[0m\n\u001b[1;32m     42\u001b[0m \u001b[0;34m\u001b[0m\u001b[0m\n\u001b[1;32m     43\u001b[0m   \u001b[0;32mdef\u001b[0m \u001b[0mforward\u001b[0m\u001b[0;34m(\u001b[0m\u001b[0mself\u001b[0m\u001b[0;34m,\u001b[0m \u001b[0mx\u001b[0m\u001b[0;34m)\u001b[0m\u001b[0;34m:\u001b[0m\u001b[0;34m\u001b[0m\u001b[0;34m\u001b[0m\u001b[0m\n\u001b[0;32m---> 44\u001b[0;31m     \u001b[0mx\u001b[0m \u001b[0;34m=\u001b[0m \u001b[0mself\u001b[0m\u001b[0;34m.\u001b[0m\u001b[0mpool\u001b[0m\u001b[0;34m(\u001b[0m\u001b[0mself\u001b[0m\u001b[0;34m.\u001b[0m\u001b[0mfeatures\u001b[0m\u001b[0;34m(\u001b[0m\u001b[0mx\u001b[0m\u001b[0;34m)\u001b[0m\u001b[0;34m)\u001b[0m\u001b[0;34m\u001b[0m\u001b[0;34m\u001b[0m\u001b[0m\n\u001b[0m\u001b[1;32m     45\u001b[0m     \u001b[0;32mreturn\u001b[0m \u001b[0mself\u001b[0m\u001b[0;34m.\u001b[0m\u001b[0mclassifier\u001b[0m\u001b[0;34m(\u001b[0m\u001b[0mx\u001b[0m\u001b[0;34m.\u001b[0m\u001b[0mview\u001b[0m\u001b[0;34m(\u001b[0m\u001b[0mx\u001b[0m\u001b[0;34m.\u001b[0m\u001b[0mshape\u001b[0m\u001b[0;34m[\u001b[0m\u001b[0;36m0\u001b[0m\u001b[0;34m]\u001b[0m\u001b[0;34m,\u001b[0m \u001b[0;34m-\u001b[0m\u001b[0;36m1\u001b[0m\u001b[0;34m)\u001b[0m\u001b[0;34m)\u001b[0m\u001b[0;34m\u001b[0m\u001b[0;34m\u001b[0m\u001b[0m\n",
            "\u001b[0;32m/usr/local/lib/python3.9/dist-packages/torch/nn/modules/module.py\u001b[0m in \u001b[0;36m__getattr__\u001b[0;34m(self, name)\u001b[0m\n\u001b[1;32m   1267\u001b[0m             \u001b[0;32mif\u001b[0m \u001b[0mname\u001b[0m \u001b[0;32min\u001b[0m \u001b[0mmodules\u001b[0m\u001b[0;34m:\u001b[0m\u001b[0;34m\u001b[0m\u001b[0;34m\u001b[0m\u001b[0m\n\u001b[1;32m   1268\u001b[0m                 \u001b[0;32mreturn\u001b[0m \u001b[0mmodules\u001b[0m\u001b[0;34m[\u001b[0m\u001b[0mname\u001b[0m\u001b[0;34m]\u001b[0m\u001b[0;34m\u001b[0m\u001b[0;34m\u001b[0m\u001b[0m\n\u001b[0;32m-> 1269\u001b[0;31m         raise AttributeError(\"'{}' object has no attribute '{}'\".format(\n\u001b[0m\u001b[1;32m   1270\u001b[0m             type(self).__name__, name))\n\u001b[1;32m   1271\u001b[0m \u001b[0;34m\u001b[0m\u001b[0m\n",
            "\u001b[0;31mAttributeError\u001b[0m: 'EfficientNet' object has no attribute 'pool'"
          ]
        }
      ]
    },
    {
      "cell_type": "code",
      "source": [],
      "metadata": {
        "id": "NlFhTecZVqMW"
      },
      "execution_count": null,
      "outputs": []
    }
  ]
}